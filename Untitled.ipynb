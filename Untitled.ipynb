{
 "cells": [
  {
   "cell_type": "code",
   "execution_count": 4,
   "metadata": {
    "collapsed": false
   },
   "outputs": [
    {
     "name": "stdout",
     "output_type": "stream",
     "text": [
      "Select operation.\n",
      "1.Add\n",
      "2.Subtract\n",
      "3.Multiply\n",
      "4.Divide\n",
      "Enter choice(1/2/3/4):4\n",
      "Enter first number: 2\n",
      "Enter second number: 3\n",
      "2 / 3 = 0.6666666666666666\n"
     ]
    }
   ],
   "source": [
    "def add(x, y):\n",
    "   return x + y\n",
    "\n",
    "def subtract(x, y):\n",
    "   return x - y\n",
    "\n",
    "\n",
    "def multiply(x, y):\n",
    "   return x * y\n",
    "\n",
    "\n",
    "def divide(x, y):\n",
    "   return x / y\n",
    "\n",
    "print(\"Select operation.\")\n",
    "print(\"1.Add\")\n",
    "print(\"2.Subtract\")\n",
    "print(\"3.Multiply\")\n",
    "print(\"4.Divide\")\n",
    "\n",
    " \n",
    "choice = input(\"Enter choice(1/2/3/4):\")\n",
    "\n",
    "num1 = int(input(\"Enter first number: \"))\n",
    "num2 = int(input(\"Enter second number: \"))\n",
    "\n",
    "if choice == '1':\n",
    "   print(num1,\"+\",num2,\"=\", add(num1,num2))\n",
    "\n",
    "elif choice == '2':\n",
    "   print(num1,\"-\",num2,\"=\", subtract(num1,num2))\n",
    "\n",
    "elif choice == '3':\n",
    "   print(num1,\"*\",num2,\"=\", multiply(num1,num2))\n",
    "\n",
    "elif choice == '4':\n",
    "   print(num1,\"/\",num2,\"=\", divide(num1,num2))\n",
    "else:\n",
    "   print(\"Invalid input\")"
   ]
  },
  {
   "cell_type": "code",
   "execution_count": 13,
   "metadata": {
    "collapsed": false
   },
   "outputs": [
    {
     "name": "stdout",
     "output_type": "stream",
     "text": [
      "[1, 4, 9, 16, 25, 36, 49, 64, 81, 100, 121, 144, 169, 196, 225, 256, 289, 324, 361, 400]\n"
     ]
    }
   ],
   "source": [
    "def square():\n",
    "    l = list()\n",
    "    for i in range(1,21):\n",
    "        l.append(i**2)\n",
    "    print(l)\n",
    "\n",
    "square()"
   ]
  },
  {
   "cell_type": "code",
   "execution_count": 3,
   "metadata": {
    "collapsed": false
   },
   "outputs": [
    {
     "name": "stdout",
     "output_type": "stream",
     "text": [
      "Enter a phrase: haider\n",
      "3\n"
     ]
    }
   ],
   "source": [
    "vowel = ['a', 'e', 'i', 'o', 'u']\n",
    "Sentence = input(\"Enter a phrase: \")\n",
    "count = 0\n",
    "for letter in Sentence:\n",
    "    if letter in vowel:\n",
    "        count += 1\n",
    "print(count)"
   ]
  },
  {
   "cell_type": "code",
   "execution_count": null,
   "metadata": {
    "collapsed": true
   },
   "outputs": [],
   "source": [
    "vowel = ['a', 'e', 'i', 'o', 'u']\n",
    "Sentence = input(\"Enter a phrase: \")\n",
    "d = {'a':0, 'e':0, 'i':0, 'o':0, 'u':0}\n",
    "count = 0\n",
    "for letter in Sentence:\n",
    "    if letter in vowel:\n",
    "        d[letter] += 1\n",
    "print(d)"
   ]
  },
  {
   "cell_type": "code",
   "execution_count": 16,
   "metadata": {
    "collapsed": false
   },
   "outputs": [],
   "source": [
    "class Shape:\n",
    "    def _init_(self):\n",
    "        print(\"shape consructor called\")\n",
    "        \n",
    "    @staticmethod\n",
    "    def printType():\n",
    "        print(\"Shape\")"
   ]
  },
  {
   "cell_type": "code",
   "execution_count": 17,
   "metadata": {
    "collapsed": true
   },
   "outputs": [],
   "source": [
    "class Rectangle(Shape):\n",
    "    def _init_(self):\n",
    "        super()._init_()\n",
    "        self.length=0\n",
    "        self.width=0\n",
    "    def draw(self):\n",
    "        print(\"draw rectangle\")"
   ]
  },
  {
   "cell_type": "code",
   "execution_count": 18,
   "metadata": {
    "collapsed": false
   },
   "outputs": [],
   "source": [
    "class Triangle(Shape):\n",
    "    def _init_(self):\n",
    "        super()._init_()\n",
    "        self.a=0\n",
    "        self.b=0\n",
    "        self.c=0\n",
    "    def draw(self):\n",
    "        print(\"draw triangle\")"
   ]
  },
  {
   "cell_type": "code",
   "execution_count": 19,
   "metadata": {
    "collapsed": false
   },
   "outputs": [],
   "source": [
    "r = Rectangle()"
   ]
  },
  {
   "cell_type": "code",
   "execution_count": 20,
   "metadata": {
    "collapsed": false
   },
   "outputs": [
    {
     "name": "stdout",
     "output_type": "stream",
     "text": [
      "draw rectangle\n"
     ]
    }
   ],
   "source": [
    "r.draw()"
   ]
  },
  {
   "cell_type": "raw",
   "metadata": {},
   "source": [
    "t = Triangle()"
   ]
  },
  {
   "cell_type": "code",
   "execution_count": 23,
   "metadata": {
    "collapsed": false
   },
   "outputs": [
    {
     "ename": "NameError",
     "evalue": "name 't' is not defined",
     "output_type": "error",
     "traceback": [
      "\u001b[1;31m---------------------------------------------------------------------------\u001b[0m",
      "\u001b[1;31mNameError\u001b[0m                                 Traceback (most recent call last)",
      "\u001b[1;32m<ipython-input-23-faf7dbab2501>\u001b[0m in \u001b[0;36m<module>\u001b[1;34m()\u001b[0m\n\u001b[1;32m----> 1\u001b[1;33m \u001b[0mt\u001b[0m\u001b[1;33m.\u001b[0m\u001b[0mdraw\u001b[0m\u001b[1;33m(\u001b[0m\u001b[1;33m)\u001b[0m\u001b[1;33m\u001b[0m\u001b[0m\n\u001b[0m",
      "\u001b[1;31mNameError\u001b[0m: name 't' is not defined"
     ]
    }
   ],
   "source": [
    "t.draw()"
   ]
  },
  {
   "cell_type": "code",
   "execution_count": null,
   "metadata": {
    "collapsed": true
   },
   "outputs": [],
   "source": []
  }
 ],
 "metadata": {
  "kernelspec": {
   "display_name": "Python [Root]",
   "language": "python",
   "name": "Python [Root]"
  },
  "language_info": {
   "codemirror_mode": {
    "name": "ipython",
    "version": 3
   },
   "file_extension": ".py",
   "mimetype": "text/x-python",
   "name": "python",
   "nbconvert_exporter": "python",
   "pygments_lexer": "ipython3",
   "version": "3.5.2"
  }
 },
 "nbformat": 4,
 "nbformat_minor": 0
}
